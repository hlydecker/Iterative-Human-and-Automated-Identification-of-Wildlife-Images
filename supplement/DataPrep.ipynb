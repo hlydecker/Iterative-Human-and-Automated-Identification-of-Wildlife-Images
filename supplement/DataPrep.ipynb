{
 "cells": [
  {
   "cell_type": "code",
   "execution_count": 1,
   "metadata": {},
   "outputs": [],
   "source": [
    "import os\n",
    "import numpy as np\n",
    "from PIL import Image\n",
    "from io import BytesIO\n",
    "from datetime import datetime\n",
    "import paramiko\n",
    "from tqdm import tqdm\n",
    "import matplotlib.pyplot as plt\n",
    "\n",
    "%matplotlib inline"
   ]
  },
  {
   "cell_type": "markdown",
   "metadata": {},
   "source": [
    "# Mozambique"
   ]
  },
  {
   "cell_type": "code",
   "execution_count": 55,
   "metadata": {},
   "outputs": [],
   "source": [
    "season = 'Mozambique_season_1'\n",
    "root = os.path.join('/Volumes/New Volume', season)\n",
    "info_txt = open('./{}.txt'.format(season), 'a')\n",
    "\n",
    "srv_root = '/home/zhmiao/datasets/ecology/Mozambique/'\n",
    "\n",
    "server = 'localhost'\n",
    "username = 'zhmiao'\n",
    "password = 'Onepiece1%'\n",
    "\n",
    "ssh = paramiko.SSHClient() \n",
    "ssh.load_host_keys(os.path.expanduser(os.path.join(\"~\", \".ssh\", \"known_hosts\")))\n",
    "\n",
    "ssh.connect(hostname=server, username=username, password=password, port=2222)\n",
    "sftp = ssh.open_sftp()"
   ]
  },
  {
   "cell_type": "code",
   "execution_count": 3,
   "metadata": {},
   "outputs": [],
   "source": [
    "cam_list = [d for d in os.listdir(root) if not d.startswith('.') and os.path.isdir(os.path.join(root, d))]"
   ]
  },
  {
   "cell_type": "code",
   "execution_count": 17,
   "metadata": {},
   "outputs": [],
   "source": [
    "for cam in cam_list:\n",
    "\n",
    "    cam_root = os.path.join(root, cam)\n",
    "    \n",
    "    species_list = [d for d in os.listdir(cam_root) if not d.startswith('.') and os.path.isdir(os.path.join(cam_root, d))]\n",
    "    \n",
    "    for species in species_list:\n",
    "    \n",
    "        species_root = os.path.join(cam_root, species)\n",
    "        \n",
    "        file_list = [d for d in os.listdir(species_root) if not d.startswith('.') and d.endswith('JPG')]\n",
    "        \n",
    "        for local_file_name in file_list:\n",
    "            \n",
    "            img_path = os.path.join(species_root, local_file_name)\n",
    "            \n",
    "            srv_species_root = os.path.join(srv_root, season, species)\n",
    "            \n",
    "            try:\n",
    "                sftp.stat(srv_species_root)\n",
    "            except IOError:\n",
    "                print('Create {}'.format(srv_species_root))\n",
    "                ssh.exec_command('mkdir -p {}'.format(srv_species_root))\n",
    "            \n",
    "            srv_file_name = cam + '_' + local_file_name.replace(' ', '_')\n",
    "            srv_img_path = os.path.join(srv_species_root, srv_file_name)\n",
    "            file_id = srv_img_path.replace(srv_root, '')\n",
    "            assert ' ' not in file_id\n",
    "            \n",
    "            fl = BytesIO()\n",
    "            \n",
    "            try:\n",
    "                img = Image.open(img_path)\n",
    "            except:\n",
    "                print('Image loading problem')\n",
    "                print(img_path)\n",
    "            \n",
    "            try:\n",
    "                time_stamp = img._getexif()[36867]\n",
    "                time_stamp = datetime.strptime(time_stamp, '%Y:%m:%d %H:%M:%S').timestamp()\n",
    "            except:\n",
    "                print('Datetime loading problem')\n",
    "                print(img_path)\n",
    "                \n",
    "            w, h = img.size\n",
    "            img = img.crop((0, 0, w, int(h * 0.93))).resize((256, 256))\n",
    "            img.save(fl, format='JPEG')\n",
    "            file_size = fl.tell()\n",
    "            \n",
    "            fl.seek(0)\n",
    "            \n",
    "            sftp.putfo(fl, srv_img_path, file_size, None, True)\n",
    "            \n",
    "            fl.close()\n",
    "            \n",
    "            info_txt.write('{} {} {}\\n'.format(file_id, species, time_stamp))"
   ]
  },
  {
   "cell_type": "code",
   "execution_count": 61,
   "metadata": {},
   "outputs": [],
   "source": [
    "sftp.close()\n",
    "ssh.close()\n",
    "\n",
    "info_txt.close()"
   ]
  }
 ],
 "metadata": {
  "kernelspec": {
   "display_name": "Python 3",
   "language": "python",
   "name": "python3"
  },
  "language_info": {
   "codemirror_mode": {
    "name": "ipython",
    "version": 3
   },
   "file_extension": ".py",
   "mimetype": "text/x-python",
   "name": "python",
   "nbconvert_exporter": "python",
   "pygments_lexer": "ipython3",
   "version": "3.7.3"
  }
 },
 "nbformat": 4,
 "nbformat_minor": 4
}
