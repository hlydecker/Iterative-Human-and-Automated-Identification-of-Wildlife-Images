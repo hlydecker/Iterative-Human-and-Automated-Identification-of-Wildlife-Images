{
 "cells": [
  {
   "cell_type": "code",
   "execution_count": 1,
   "metadata": {},
   "outputs": [],
   "source": [
    "import os\n",
    "import json\n",
    "import numpy as np\n",
    "from tqdm import tqdm\n",
    "from PIL import Image\n",
    "\n",
    "%matplotlib inline"
   ]
  },
  {
   "cell_type": "code",
   "execution_count": 2,
   "metadata": {},
   "outputs": [],
   "source": [
    "root = '/home/zhmiao/datasets/ecology/CCT_15/'\n",
    "img_root = os.path.join(root, 'eccv_18_all_images_sm')"
   ]
  },
  {
   "cell_type": "code",
   "execution_count": 3,
   "metadata": {},
   "outputs": [],
   "source": [
    "imgs_reg = os.listdir(os.path.join(root, 'eccv_18_all_images_sm/'))"
   ]
  },
  {
   "cell_type": "code",
   "execution_count": 4,
   "metadata": {},
   "outputs": [
    {
     "data": {
      "text/plain": [
       "'59fae6fe-23d2-11e8-a6a3-ec086b02610b.jpg'"
      ]
     },
     "execution_count": 4,
     "metadata": {},
     "output_type": "execute_result"
    }
   ],
   "source": [
    "imgs_reg[0]"
   ]
  },
  {
   "cell_type": "code",
   "execution_count": 5,
   "metadata": {},
   "outputs": [],
   "source": [
    "js_path = '/home/zhmiao/datasets/ecology/CCT_15/eccv_18_annotation_files/cis_train_annotations.json'\n",
    "\n",
    "with open(js_path, 'r') as js:\n",
    "    js_file = json.load(js)"
   ]
  },
  {
   "cell_type": "code",
   "execution_count": 14,
   "metadata": {},
   "outputs": [
    {
     "name": "stderr",
     "output_type": "stream",
     "text": [
      "100%|██████████| 14071/14071 [00:00<00:00, 202782.60it/s]\n"
     ]
    }
   ],
   "source": [
    "cat = []\n",
    "for ann in tqdm(js_file['annotations']):\n",
    "    img_id = ann['image_id']\n",
    "    file_path = os.path.join(img_root, img_id + '.jpg')\n",
    "    \n",
    "    if not os.path.isfile(file_path):\n",
    "        print(file_path)\n",
    "        \n",
    "    if ann['category_id'] != 30 and ann['category_id'] != 21 and ann['category_id'] != 51:\n",
    "        cat.append(ann['category_id'])"
   ]
  },
  {
   "cell_type": "code",
   "execution_count": 15,
   "metadata": {},
   "outputs": [],
   "source": [
    "unique_cat, unique_counts = np.unique(cat, return_counts=True)"
   ]
  },
  {
   "cell_type": "code",
   "execution_count": 16,
   "metadata": {},
   "outputs": [],
   "source": [
    "sorted_unique_cat = sorted(list(zip(unique_cat, unique_counts)), key=lambda x:x[1], reverse=True)"
   ]
  },
  {
   "cell_type": "code",
   "execution_count": 17,
   "metadata": {},
   "outputs": [
    {
     "data": {
      "text/plain": [
       "[(1, 2751),\n",
       " (10, 2490),\n",
       " (9, 1501),\n",
       " (16, 1290),\n",
       " (5, 1256),\n",
       " (3, 1120),\n",
       " (8, 919),\n",
       " (6, 791),\n",
       " (33, 668),\n",
       " (11, 619),\n",
       " (99, 377),\n",
       " (7, 230),\n",
       " (34, 45)]"
      ]
     },
     "execution_count": 17,
     "metadata": {},
     "output_type": "execute_result"
    }
   ],
   "source": [
    "sorted_unique_cat"
   ]
  },
  {
   "cell_type": "code",
   "execution_count": 21,
   "metadata": {},
   "outputs": [
    {
     "data": {
      "text/plain": [
       "5"
      ]
     },
     "execution_count": 21,
     "metadata": {},
     "output_type": "execute_result"
    }
   ],
   "source": [
    "np.random.randint(0, 10)"
   ]
  },
  {
   "cell_type": "code",
   "execution_count": 24,
   "metadata": {},
   "outputs": [],
   "source": [
    "min_split = 100\n",
    "season_1 = []\n",
    "season_2 = []\n",
    "\n",
    "for i, ent in enumerate(sorted_unique_cat):\n",
    "    \n",
    "    lab = ent[0]\n",
    "    total_num = ent[1]\n",
    "    \n",
    "    if i <= 9:\n",
    "        \n",
    "        np.random.seed(lab)\n",
    "        split = np.random.randint(min_split, (total_num - min_split))\n",
    "        \n",
    "        season_1.append((lab, split))\n",
    "        season_2.append((lab, total_num - split))\n",
    "        \n",
    "    else:\n",
    "        \n",
    "        season_2.append(ent)\n",
    "    "
   ]
  },
  {
   "cell_type": "code",
   "execution_count": 25,
   "metadata": {},
   "outputs": [
    {
     "data": {
      "text/plain": [
       "[(1, 1161),\n",
       " (10, 1389),\n",
       " (9, 482),\n",
       " (16, 781),\n",
       " (5, 967),\n",
       " (3, 974),\n",
       " (8, 551),\n",
       " (6, 327),\n",
       " (33, 120),\n",
       " (11, 509)]"
      ]
     },
     "execution_count": 25,
     "metadata": {},
     "output_type": "execute_result"
    }
   ],
   "source": [
    "season_1"
   ]
  },
  {
   "cell_type": "code",
   "execution_count": 26,
   "metadata": {},
   "outputs": [
    {
     "data": {
      "text/plain": [
       "[(1, 1590),\n",
       " (10, 1101),\n",
       " (9, 1019),\n",
       " (16, 509),\n",
       " (5, 289),\n",
       " (3, 146),\n",
       " (8, 368),\n",
       " (6, 464),\n",
       " (33, 548),\n",
       " (11, 110),\n",
       " (99, 377),\n",
       " (7, 230),\n",
       " (34, 45)]"
      ]
     },
     "execution_count": 26,
     "metadata": {},
     "output_type": "execute_result"
    }
   ],
   "source": [
    "season_2"
   ]
  },
  {
   "cell_type": "code",
   "execution_count": 28,
   "metadata": {},
   "outputs": [
    {
     "data": {
      "text/plain": [
       "array([ 1,  3,  5,  6,  7,  8,  9, 10, 11, 16, 33, 34, 99])"
      ]
     },
     "execution_count": 28,
     "metadata": {},
     "output_type": "execute_result"
    }
   ],
   "source": [
    "unique_cat"
   ]
  },
  {
   "cell_type": "code",
   "execution_count": 27,
   "metadata": {},
   "outputs": [
    {
     "data": {
      "text/plain": [
       "dict_keys(['info', 'categories', 'images', 'annotations'])"
      ]
     },
     "execution_count": 27,
     "metadata": {},
     "output_type": "execute_result"
    }
   ],
   "source": [
    "js_file.keys()"
   ]
  },
  {
   "cell_type": "code",
   "execution_count": 29,
   "metadata": {},
   "outputs": [
    {
     "data": {
      "text/plain": [
       "{'image_id': '59fe2386-23d2-11e8-a6a3-ec086b02610b',\n",
       " 'category_id': 11,\n",
       " 'bbox': [974.08, 695.04, 227.84000000000003, 148.4799999999999],\n",
       " 'id': '29856'}"
      ]
     },
     "execution_count": 29,
     "metadata": {},
     "output_type": "execute_result"
    }
   ],
   "source": [
    "ann"
   ]
  },
  {
   "cell_type": "code",
   "execution_count": 31,
   "metadata": {},
   "outputs": [
    {
     "name": "stderr",
     "output_type": "stream",
     "text": [
      "100%|██████████| 14071/14071 [00:00<00:00, 1061895.92it/s]\n"
     ]
    }
   ],
   "source": [
    "annotation_list_dict = {k:[] for k in unique_cat}\n",
    "\n",
    "for ann in tqdm(js_file['annotations']):\n",
    "    if ann['category_id'] != 30 and ann['category_id'] != 21 and ann['category_id'] != 51:\n",
    "        annotation_list_dict[ann['category_id']].append(ann)"
   ]
  },
  {
   "cell_type": "code",
   "execution_count": 32,
   "metadata": {},
   "outputs": [],
   "source": [
    "ann_sea_1 = {'annotations': []}\n",
    "ann_sea_2 = {'annotations': []}\n",
    "\n",
    "for i in range(len(unique_cat)):\n",
    "    \n",
    "    lab = season_2[i][0]\n",
    "    \n",
    "    if i <= 9:\n",
    "        \n",
    "        num_sea_1 = season_1[i][1]\n",
    "        \n",
    "        np.random.seed(lab)\n",
    "        \n",
    "        ann_list = annotation_list_dict[lab]\n",
    "        \n",
    "        np.random.shuffle(ann_list)\n",
    "        \n",
    "        ann_sea_1['annotations'] += ann_list[:num_sea_1]\n",
    "        ann_sea_2['annotations'] += ann_list[num_sea_1:]\n",
    "        \n",
    "    else:\n",
    "            \n",
    "        ann_list = annotation_list_dict[lab]\n",
    "        ann_sea_2['annotations'] += ann_list[num_sea_1:]"
   ]
  },
  {
   "cell_type": "code",
   "execution_count": 35,
   "metadata": {},
   "outputs": [],
   "source": [
    "with open('/home/zhmiao/datasets/ecology/CCT_15/eccv_18_annotation_files/cis_train_annotations_season_1.json', 'w') as json_file:\n",
    "    json.dump(ann_sea_1, json_file)\n",
    "\n",
    "with open('/home/zhmiao/datasets/ecology/CCT_15/eccv_18_annotation_files/cis_train_annotations_season_2.json', 'w') as json_file:\n",
    "    json.dump(ann_sea_2, json_file)"
   ]
  },
  {
   "cell_type": "code",
   "execution_count": 41,
   "metadata": {},
   "outputs": [],
   "source": [
    "# js_path = '/home/zhmiao/datasets/ecology/CCT_15/eccv_18_annotation_files/cis_val_annotations.json'\n",
    "\n",
    "season_1_labels = [e[0] for e in season_1]\n",
    "season_2_labels = [e[0] for e in season_2]\n",
    "\n",
    "def eval_ann_split(js_path):\n",
    "    \n",
    "    ann_sea_1 = {'annotations': []}\n",
    "    ann_sea_2 = {'annotations': []}\n",
    "    \n",
    "    with open(js_path, 'r') as js:\n",
    "        js_file = json.load(js)\n",
    "    \n",
    "    for ann in tqdm(js_file['annotations']):\n",
    "            \n",
    "        if ann['category_id'] in season_1_labels:\n",
    "            ann_sea_1['annotations'].append(ann)\n",
    "            \n",
    "        if ann['category_id'] in season_2_labels:\n",
    "            ann_sea_2['annotations'].append(ann)\n",
    "\n",
    "    return ann_sea_1, ann_sea_2"
   ]
  },
  {
   "cell_type": "code",
   "execution_count": 42,
   "metadata": {},
   "outputs": [
    {
     "name": "stderr",
     "output_type": "stream",
     "text": [
      "100%|██████████| 3582/3582 [00:00<00:00, 328551.37it/s]\n",
      "100%|██████████| 16395/16395 [00:00<00:00, 418799.45it/s]\n"
     ]
    }
   ],
   "source": [
    "cis_val_sea_1, cis_val_sea_2 = eval_ann_split('/home/zhmiao/datasets/ecology/CCT_15/eccv_18_annotation_files/cis_val_annotations.json')\n",
    "cis_test_sea_1, cis_test_sea_2 = eval_ann_split('/home/zhmiao/datasets/ecology/CCT_15/eccv_18_annotation_files/cis_test_annotations.json')"
   ]
  },
  {
   "cell_type": "code",
   "execution_count": 43,
   "metadata": {},
   "outputs": [],
   "source": [
    "with open('/home/zhmiao/datasets/ecology/CCT_15/eccv_18_annotation_files/cis_val_annotations_season_1.json', 'w') as json_file:\n",
    "    json.dump(cis_val_sea_1, json_file)\n",
    "with open('/home/zhmiao/datasets/ecology/CCT_15/eccv_18_annotation_files/cis_val_annotations_season_2.json', 'w') as json_file:\n",
    "    json.dump(cis_val_sea_2, json_file)\n",
    "\n",
    "with open('/home/zhmiao/datasets/ecology/CCT_15/eccv_18_annotation_files/cis_test_annotations_season_1.json', 'w') as json_file:\n",
    "    json.dump(cis_test_sea_1, json_file)\n",
    "with open('/home/zhmiao/datasets/ecology/CCT_15/eccv_18_annotation_files/cis_test_annotations_season_2.json', 'w') as json_file:\n",
    "    json.dump(cis_test_sea_2, json_file)"
   ]
  },
  {
   "cell_type": "code",
   "execution_count": 37,
   "metadata": {},
   "outputs": [
    {
     "data": {
      "text/plain": [
       "[1, 10, 9, 16, 5, 3, 8, 6, 33, 11]"
      ]
     },
     "execution_count": 37,
     "metadata": {},
     "output_type": "execute_result"
    }
   ],
   "source": [
    "season_1_labels"
   ]
  },
  {
   "cell_type": "code",
   "execution_count": 38,
   "metadata": {},
   "outputs": [
    {
     "data": {
      "text/plain": [
       "[1, 10, 9, 16, 5, 3, 8, 6, 33, 11, 99, 7, 34]"
      ]
     },
     "execution_count": 38,
     "metadata": {},
     "output_type": "execute_result"
    }
   ],
   "source": [
    "season_2_labels"
   ]
  },
  {
   "cell_type": "code",
   "execution_count": null,
   "metadata": {},
   "outputs": [],
   "source": []
  },
  {
   "cell_type": "code",
   "execution_count": 8,
   "metadata": {},
   "outputs": [
    {
     "data": {
      "text/plain": [
       "[{'id': 6, 'name': 'bobcat'},\n",
       " {'id': 1, 'name': 'opossum'},\n",
       " {'id': 30, 'name': 'empty'},\n",
       " {'id': 9, 'name': 'coyote'},\n",
       " {'id': 3, 'name': 'raccoon'},\n",
       " {'id': 11, 'name': 'bird'},\n",
       " {'id': 8, 'name': 'dog'},\n",
       " {'id': 16, 'name': 'cat'},\n",
       " {'id': 5, 'name': 'squirrel'},\n",
       " {'id': 10, 'name': 'rabbit'},\n",
       " {'id': 7, 'name': 'skunk'},\n",
       " {'id': 99, 'name': 'rodent'},\n",
       " {'id': 21, 'name': 'badger'},\n",
       " {'id': 34, 'name': 'deer'},\n",
       " {'id': 33, 'name': 'car'},\n",
       " {'id': 51, 'name': 'fox'}]"
      ]
     },
     "execution_count": 8,
     "metadata": {},
     "output_type": "execute_result"
    }
   ],
   "source": [
    "js_file['categories']"
   ]
  },
  {
   "cell_type": "code",
   "execution_count": 9,
   "metadata": {},
   "outputs": [],
   "source": [
    "class_indices = {}\n",
    "label = 0\n",
    "for cat in js_file['categories']:\n",
    "    if cat['id'] != 30 and cat['id'] != 33:\n",
    "        class_indices[cat['id']] = label\n",
    "        label += 1"
   ]
  },
  {
   "cell_type": "code",
   "execution_count": 10,
   "metadata": {},
   "outputs": [
    {
     "data": {
      "text/plain": [
       "{6: 0,\n",
       " 1: 1,\n",
       " 9: 2,\n",
       " 3: 3,\n",
       " 11: 4,\n",
       " 8: 5,\n",
       " 16: 6,\n",
       " 5: 7,\n",
       " 10: 8,\n",
       " 7: 9,\n",
       " 99: 10,\n",
       " 21: 11,\n",
       " 34: 12,\n",
       " 51: 13}"
      ]
     },
     "execution_count": 10,
     "metadata": {},
     "output_type": "execute_result"
    }
   ],
   "source": [
    "class_indices"
   ]
  }
 ],
 "metadata": {
  "kernelspec": {
   "display_name": "Python 3",
   "language": "python",
   "name": "python3"
  },
  "language_info": {
   "codemirror_mode": {
    "name": "ipython",
    "version": 3
   },
   "file_extension": ".py",
   "mimetype": "text/x-python",
   "name": "python",
   "nbconvert_exporter": "python",
   "pygments_lexer": "ipython3",
   "version": "3.7.6"
  }
 },
 "nbformat": 4,
 "nbformat_minor": 4
}
