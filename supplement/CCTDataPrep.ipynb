{
 "cells": [
  {
   "cell_type": "code",
   "execution_count": 2,
   "metadata": {},
   "outputs": [],
   "source": [
    "import os\n",
    "import json\n",
    "import numpy as np\n",
    "from tqdm import tqdm\n",
    "from PIL import Image"
   ]
  },
  {
   "cell_type": "code",
   "execution_count": 3,
   "metadata": {},
   "outputs": [],
   "source": [
    "root = '/home/zhmiao/datasets/ecology/CCT_15/'\n",
    "img_root = os.path.join(root, 'eccv_18_all_images_sm')"
   ]
  },
  {
   "cell_type": "code",
   "execution_count": 4,
   "metadata": {},
   "outputs": [],
   "source": [
    "imgs_reg = os.listdir(os.path.join(root, 'eccv_18_all_images_sm/'))"
   ]
  },
  {
   "cell_type": "code",
   "execution_count": 5,
   "metadata": {},
   "outputs": [
    {
     "data": {
      "text/plain": [
       "'59fae6fe-23d2-11e8-a6a3-ec086b02610b.jpg'"
      ]
     },
     "execution_count": 5,
     "metadata": {},
     "output_type": "execute_result"
    }
   ],
   "source": [
    "imgs_reg[0]"
   ]
  },
  {
   "cell_type": "code",
   "execution_count": 6,
   "metadata": {},
   "outputs": [],
   "source": [
    "# js_path = '/home/zhmiao/datasets/ecology/CCT-20/eccv_18_annotation_files/train_annotations.json'\n",
    "js_path = '/home/zhmiao/datasets/ecology/CCT_15/eccv_18_annotation_files/cis_train_annotations.json'\n",
    "\n",
    "with open(js_path, 'r') as js:\n",
    "    js_file = json.load(js)"
   ]
  },
  {
   "cell_type": "code",
   "execution_count": 7,
   "metadata": {},
   "outputs": [
    {
     "name": "stderr",
     "output_type": "stream",
     "text": [
      "100%|██████████| 14071/14071 [00:00<00:00, 160869.11it/s]\n"
     ]
    }
   ],
   "source": [
    "cat = []\n",
    "for ann in tqdm(js_file['annotations']):\n",
    "    img_id = ann['image_id']\n",
    "    file_path = os.path.join(img_root, img_id + '.jpg')\n",
    "    \n",
    "    if not os.path.isfile(file_path):\n",
    "        print(file_path)\n",
    "        \n",
    "    if ann['category_id'] != 30:\n",
    "        cat.append(ann['category_id'])"
   ]
  },
  {
   "cell_type": "code",
   "execution_count": 8,
   "metadata": {},
   "outputs": [
    {
     "data": {
      "text/plain": [
       "[{'id': 6, 'name': 'bobcat'},\n",
       " {'id': 1, 'name': 'opossum'},\n",
       " {'id': 30, 'name': 'empty'},\n",
       " {'id': 9, 'name': 'coyote'},\n",
       " {'id': 3, 'name': 'raccoon'},\n",
       " {'id': 11, 'name': 'bird'},\n",
       " {'id': 8, 'name': 'dog'},\n",
       " {'id': 16, 'name': 'cat'},\n",
       " {'id': 5, 'name': 'squirrel'},\n",
       " {'id': 10, 'name': 'rabbit'},\n",
       " {'id': 7, 'name': 'skunk'},\n",
       " {'id': 99, 'name': 'rodent'},\n",
       " {'id': 21, 'name': 'badger'},\n",
       " {'id': 34, 'name': 'deer'},\n",
       " {'id': 33, 'name': 'car'},\n",
       " {'id': 51, 'name': 'fox'}]"
      ]
     },
     "execution_count": 8,
     "metadata": {},
     "output_type": "execute_result"
    }
   ],
   "source": [
    "js_file['categories']"
   ]
  },
  {
   "cell_type": "code",
   "execution_count": 9,
   "metadata": {},
   "outputs": [],
   "source": [
    "class_indices = {}\n",
    "label = 0\n",
    "for cat in js_file['categories']:\n",
    "    if cat['id'] != 30 and cat['id'] != 33:\n",
    "        class_indices[cat['id']] = label\n",
    "        label += 1"
   ]
  },
  {
   "cell_type": "code",
   "execution_count": 10,
   "metadata": {},
   "outputs": [
    {
     "data": {
      "text/plain": [
       "{6: 0,\n",
       " 1: 1,\n",
       " 9: 2,\n",
       " 3: 3,\n",
       " 11: 4,\n",
       " 8: 5,\n",
       " 16: 6,\n",
       " 5: 7,\n",
       " 10: 8,\n",
       " 7: 9,\n",
       " 99: 10,\n",
       " 21: 11,\n",
       " 34: 12,\n",
       " 51: 13}"
      ]
     },
     "execution_count": 10,
     "metadata": {},
     "output_type": "execute_result"
    }
   ],
   "source": [
    "class_indices"
   ]
  }
 ],
 "metadata": {
  "kernelspec": {
   "display_name": "Python 3",
   "language": "python",
   "name": "python3"
  },
  "language_info": {
   "codemirror_mode": {
    "name": "ipython",
    "version": 3
   },
   "file_extension": ".py",
   "mimetype": "text/x-python",
   "name": "python",
   "nbconvert_exporter": "python",
   "pygments_lexer": "ipython3",
   "version": "3.7.4"
  }
 },
 "nbformat": 4,
 "nbformat_minor": 4
}
