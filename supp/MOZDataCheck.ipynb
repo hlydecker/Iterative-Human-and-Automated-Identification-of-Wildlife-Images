{
 "cells": [
  {
   "cell_type": "code",
   "execution_count": 10,
   "metadata": {},
   "outputs": [],
   "source": [
    "import os\n",
    "import numpy as np\n",
    "from tqdm import tqdm\n",
    "\n",
    "from PIL import Image"
   ]
  },
  {
   "cell_type": "code",
   "execution_count": 4,
   "metadata": {},
   "outputs": [],
   "source": [
    "rename = {\n",
    "    'Baboon_': 'Baboon',\n",
    "    'Elephant_': 'Elephant',\n",
    "    'Honey_badger_': 'Honey_badger',\n",
    "    'Honey_Badger': 'Honey_badger',\n",
    "    'Mongoose_larger_gray': 'Mongoose_larger_grey',\n",
    "    'Hippopotamus': 'Hippo'\n",
    "}"
   ]
  },
  {
   "cell_type": "code",
   "execution_count": 7,
   "metadata": {},
   "outputs": [],
   "source": [
    "root = '/home/zhmiao/datasets/ecology/Mozambique/'\n",
    "\n",
    "s1_ori = os.path.join(root, 'SplitLists', 'Mozambique_season_1_all.txt.ori')\n",
    "s2_ori = os.path.join(root, 'SplitLists', 'Mozambique_season_2_all.txt.ori')"
   ]
  },
  {
   "cell_type": "code",
   "execution_count": 8,
   "metadata": {},
   "outputs": [],
   "source": [
    "def read_ori_lists(path):\n",
    "\n",
    "    file_list = []\n",
    "    label_list = []\n",
    "    sec_list = []\n",
    "    \n",
    "    with open(path, 'r') as f:\n",
    "        \n",
    "        for line in tqdm(f):\n",
    "            \n",
    "            line = line.replace('  ', ' ')\n",
    "            \n",
    "            if 'Honey Badger' in line:\n",
    "                line = line.replace('Honey Badger', 'Honey_badger')\n",
    "                \n",
    "            if 'Mongoose_white tailed' in line:\n",
    "                line = line.replace('Mongoose_white tailed', 'Mongoose_white_tailed')\n",
    "                \n",
    "            line_sp = line.split(' ')\n",
    "            file = line_sp[0]\n",
    "            label = line_sp[1]\n",
    "            sec = line_sp[2]\n",
    "            \n",
    "            if file.split('/')[1] in rename.keys():\n",
    "                file_sp = file.split('/')\n",
    "                file_sp[1] = rename[file_sp[1]]\n",
    "                file = '/'.join(file_sp)\n",
    "                \n",
    "            file_list.append(file)\n",
    "            label_list.append(label)\n",
    "            sec_list.append(float(sec.replace('\\n', '')))\n",
    "            \n",
    "            #if os.path.exists(os.path.join(root, file)):\n",
    "            #    file_list.append(file)\n",
    "            #    label_list.append(label)\n",
    "            \n",
    "    file_list = np.array(file_list)\n",
    "    label_list = np.array(label_list)\n",
    "    sec_list = np.array(sec_list)\n",
    "    \n",
    "    return file_list, label_list, sec_list"
   ]
  },
  {
   "cell_type": "code",
   "execution_count": 11,
   "metadata": {},
   "outputs": [
    {
     "name": "stderr",
     "output_type": "stream",
     "text": [
      "313020it [00:00, 415242.95it/s]\n",
      "323582it [00:00, 456568.29it/s]\n"
     ]
    }
   ],
   "source": [
    "file_list_s1, label_list_s1, sec_list_s1 = read_ori_lists(s1_ori)\n",
    "file_list_s2, label_list_s2, sec_list_s2 = read_ori_lists(s2_ori)"
   ]
  },
  {
   "cell_type": "code",
   "execution_count": null,
   "metadata": {},
   "outputs": [],
   "source": [
    "seas_min_all_count = {1: 70, 2: 25}\n",
    "seas_min_test_count = {1: 50, 2: 20}"
   ]
  },
  {
   "cell_type": "code",
   "execution_count": 29,
   "metadata": {},
   "outputs": [],
   "source": [
    "def category_selection(label_list, min_count):\n",
    "\n",
    "    unique_labels, label_counts = np.unique(label_list, return_counts=True)\n",
    "    \n",
    "    cat_sel = [(cat, count)\n",
    "               for cat, count in zip(unique_labels[label_counts > min_count], label_counts[label_counts > min_count]) \n",
    "               if 'nknown' not in cat\n",
    "               and 'other' not in cat\n",
    "               and cat not in ['Ghost', 'Human', 'Fire', 'Setup', 'Rodent']]\n",
    "    \n",
    "    cat_leftout = [(cat, count)\n",
    "                   for cat, count in zip(unique_labels, label_counts) \n",
    "                   if 'nknown' in cat\n",
    "                   or 'other' in cat\n",
    "                   or cat in ['Ghost', 'Human', 'Fire', 'Setup', 'Rodent']\n",
    "                   or count <= min_count]\n",
    "    \n",
    "    cat_sel = sorted(cat_sel, key=lambda x : x[1], reverse=True)\n",
    "    cat_leftout = sorted(cat_leftout, key=lambda x : x[1], reverse=True)\n",
    "    \n",
    "    return cat_sel, cat_leftout"
   ]
  },
  {
   "cell_type": "code",
   "execution_count": 36,
   "metadata": {},
   "outputs": [],
   "source": [
    "cat_sel_counts_s1, cat_leftout_counts_s1 = category_selection(label_list_s1, min_count=150)\n",
    "cat_sel_counts_s2, cat_leftout_counts_s2 = category_selection(label_list_s2, min_count=150)"
   ]
  },
  {
   "cell_type": "code",
   "execution_count": 38,
   "metadata": {},
   "outputs": [],
   "source": [
    "set([e[0] for e in cat_sel_counts_s2]) - set([e[0] for e in cat_sel_counts_s1])"
   ]
  },
  {
   "cell_type": "code",
   "execution_count": 39,
   "metadata": {},
   "outputs": [
    {
     "data": {
      "text/plain": [
       "{'Aardvark',\n",
       " 'Duiker_common',\n",
       " 'Hare',\n",
       " 'Honey_badger',\n",
       " 'Mongoose_bushy_tailed',\n",
       " 'Mongoose_marsh',\n",
       " 'Mongoose_slender'}"
      ]
     },
     "execution_count": 39,
     "metadata": {},
     "output_type": "execute_result"
    }
   ],
   "source": [
    "set([e[0] for e in cat_sel_counts_s1]) - set([e[0] for e in cat_sel_counts_s2])"
   ]
  },
  {
   "cell_type": "markdown",
   "metadata": {},
   "source": [
    "# 1. Combine Two Seasons"
   ]
  },
  {
   "cell_type": "code",
   "execution_count": null,
   "metadata": {},
   "outputs": [],
   "source": []
  }
 ],
 "metadata": {
  "kernelspec": {
   "display_name": "Python 3",
   "language": "python",
   "name": "python3"
  },
  "language_info": {
   "codemirror_mode": {
    "name": "ipython",
    "version": 3
   },
   "file_extension": ".py",
   "mimetype": "text/x-python",
   "name": "python",
   "nbconvert_exporter": "python",
   "pygments_lexer": "ipython3",
   "version": "3.7.6"
  }
 },
 "nbformat": 4,
 "nbformat_minor": 4
}
